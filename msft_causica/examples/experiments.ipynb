{
 "cells": [
  {
   "cell_type": "code",
   "execution_count": 1,
   "metadata": {},
   "outputs": [
    {
     "name": "stdout",
     "output_type": "stream",
     "text": [
      "/home/nikolas/Downloads/CS-673 (23-24)/Project/msft_causica\n",
      "/home/nikolas/Downloads/CS-673 (23-24)/Project/msft_causica\n"
     ]
    }
   ],
   "source": [
    "import sys\n",
    "\n",
    "%cd ..\n",
    "# add the src directory for the code\n",
    "sys.path.append('src')\n",
    "\n",
    "%cd .\n",
    "sys.path.append('cdml-neurips2020/datasets')"
   ]
  },
  {
   "cell_type": "code",
   "execution_count": 2,
   "metadata": {},
   "outputs": [
    {
     "name": "stdout",
     "output_type": "stream",
     "text": [
      "1.23.5\n"
     ]
    }
   ],
   "source": [
    "import os\n",
    "from operator import itemgetter\n",
    "import warnings\n",
    "\n",
    "import fsspec\n",
    "import json\n",
    "import matplotlib.pyplot as plt\n",
    "import networkx as nx\n",
    "import numpy as np\n",
    "import pandas as pd\n",
    "import pytorch_lightning as pl\n",
    "import torch\n",
    "\n",
    "from pytorch_lightning.callbacks import TQDMProgressBar\n",
    "from tensordict import TensorDict\n",
    "\n",
    "from causica.datasets.causica_dataset_format import CAUSICA_DATASETS_PATH, Variable\n",
    "from causica.distributions import ContinuousNoiseDist\n",
    "from causica.lightning.data_modules.basic_data_module import BasicDECIDataModule\n",
    "from causica.lightning.modules.deci_module import DECIModule\n",
    "from causica.sem.sem_distribution import SEMDistributionModule\n",
    "from causica.sem.structural_equation_model import ite\n",
    "from causica.training.auglag import AugLagLRConfig\n",
    "\n",
    "warnings.filterwarnings(\"ignore\")\n",
    "test_run = bool(os.environ.get(\"TEST_RUN\", False))  # used by testing to run the notebook as a script\n",
    "\n",
    "print(np.__version__)"
   ]
  },
  {
   "cell_type": "code",
   "execution_count": 30,
   "metadata": {},
   "outputs": [],
   "source": [
    "CAUSICA_DATASETS_PATH = '../cdml-neurips2020/'\n",
    "root_path = CAUSICA_DATASETS_PATH + 'datasets/'\n",
    "\n",
    "FILENAME = 'Complexity 30 Num Features 3 Num Latent 0 Max Lag 1 Min Lag 1 Target Max Parents 3 Max Children 0 Samples 10000 Noise 0.01 0.1' + '-lagged.csv'"
   ]
  },
  {
   "cell_type": "code",
   "execution_count": 31,
   "metadata": {},
   "outputs": [
    {
     "data": {
      "text/html": [
       "<div>\n",
       "<style scoped>\n",
       "    .dataframe tbody tr th:only-of-type {\n",
       "        vertical-align: middle;\n",
       "    }\n",
       "\n",
       "    .dataframe tbody tr th {\n",
       "        vertical-align: top;\n",
       "    }\n",
       "\n",
       "    .dataframe thead th {\n",
       "        text-align: right;\n",
       "    }\n",
       "</style>\n",
       "<table border=\"1\" class=\"dataframe\">\n",
       "  <thead>\n",
       "    <tr style=\"text-align: right;\">\n",
       "      <th></th>\n",
       "      <th>X1</th>\n",
       "      <th>X2</th>\n",
       "      <th>X3</th>\n",
       "      <th>Y1</th>\n",
       "      <th>X1:1</th>\n",
       "      <th>X2:1</th>\n",
       "      <th>X3:1</th>\n",
       "      <th>Y1:1</th>\n",
       "    </tr>\n",
       "  </thead>\n",
       "  <tbody>\n",
       "    <tr>\n",
       "      <th>0</th>\n",
       "      <td>0.602888</td>\n",
       "      <td>-0.317144</td>\n",
       "      <td>0.123986</td>\n",
       "      <td>0.054386</td>\n",
       "      <td>-0.333167</td>\n",
       "      <td>0.120291</td>\n",
       "      <td>-0.313161</td>\n",
       "      <td>0.782941</td>\n",
       "    </tr>\n",
       "    <tr>\n",
       "      <th>1</th>\n",
       "      <td>0.147428</td>\n",
       "      <td>-0.353617</td>\n",
       "      <td>-0.298057</td>\n",
       "      <td>0.985789</td>\n",
       "      <td>0.602888</td>\n",
       "      <td>-0.317144</td>\n",
       "      <td>0.123986</td>\n",
       "      <td>0.054386</td>\n",
       "    </tr>\n",
       "    <tr>\n",
       "      <th>2</th>\n",
       "      <td>0.169421</td>\n",
       "      <td>-0.023562</td>\n",
       "      <td>-0.508075</td>\n",
       "      <td>1.020029</td>\n",
       "      <td>0.147428</td>\n",
       "      <td>-0.353617</td>\n",
       "      <td>-0.298057</td>\n",
       "      <td>0.985789</td>\n",
       "    </tr>\n",
       "    <tr>\n",
       "      <th>3</th>\n",
       "      <td>-0.271752</td>\n",
       "      <td>-0.040821</td>\n",
       "      <td>-0.799066</td>\n",
       "      <td>0.660175</td>\n",
       "      <td>0.169421</td>\n",
       "      <td>-0.023562</td>\n",
       "      <td>-0.508075</td>\n",
       "      <td>1.020029</td>\n",
       "    </tr>\n",
       "    <tr>\n",
       "      <th>4</th>\n",
       "      <td>-0.020856</td>\n",
       "      <td>0.052620</td>\n",
       "      <td>-0.137816</td>\n",
       "      <td>0.668248</td>\n",
       "      <td>-0.271752</td>\n",
       "      <td>-0.040821</td>\n",
       "      <td>-0.799066</td>\n",
       "      <td>0.660175</td>\n",
       "    </tr>\n",
       "    <tr>\n",
       "      <th>...</th>\n",
       "      <td>...</td>\n",
       "      <td>...</td>\n",
       "      <td>...</td>\n",
       "      <td>...</td>\n",
       "      <td>...</td>\n",
       "      <td>...</td>\n",
       "      <td>...</td>\n",
       "      <td>...</td>\n",
       "    </tr>\n",
       "    <tr>\n",
       "      <th>9994</th>\n",
       "      <td>-0.007770</td>\n",
       "      <td>0.335393</td>\n",
       "      <td>-0.624249</td>\n",
       "      <td>0.750741</td>\n",
       "      <td>-0.058260</td>\n",
       "      <td>-0.017507</td>\n",
       "      <td>-0.249589</td>\n",
       "      <td>0.781348</td>\n",
       "    </tr>\n",
       "    <tr>\n",
       "      <th>9995</th>\n",
       "      <td>0.116234</td>\n",
       "      <td>0.002977</td>\n",
       "      <td>-1.017827</td>\n",
       "      <td>0.495584</td>\n",
       "      <td>-0.007770</td>\n",
       "      <td>0.335393</td>\n",
       "      <td>-0.624249</td>\n",
       "      <td>0.750741</td>\n",
       "    </tr>\n",
       "    <tr>\n",
       "      <th>9996</th>\n",
       "      <td>0.109565</td>\n",
       "      <td>0.181715</td>\n",
       "      <td>-1.131179</td>\n",
       "      <td>1.136734</td>\n",
       "      <td>0.116234</td>\n",
       "      <td>0.002977</td>\n",
       "      <td>-1.017827</td>\n",
       "      <td>0.495584</td>\n",
       "    </tr>\n",
       "    <tr>\n",
       "      <th>9997</th>\n",
       "      <td>-0.180192</td>\n",
       "      <td>0.378420</td>\n",
       "      <td>-0.807047</td>\n",
       "      <td>0.915629</td>\n",
       "      <td>0.109565</td>\n",
       "      <td>0.181715</td>\n",
       "      <td>-1.131179</td>\n",
       "      <td>1.136734</td>\n",
       "    </tr>\n",
       "    <tr>\n",
       "      <th>9998</th>\n",
       "      <td>-0.521485</td>\n",
       "      <td>0.161408</td>\n",
       "      <td>-0.930607</td>\n",
       "      <td>0.318647</td>\n",
       "      <td>-0.180192</td>\n",
       "      <td>0.378420</td>\n",
       "      <td>-0.807047</td>\n",
       "      <td>0.915629</td>\n",
       "    </tr>\n",
       "  </tbody>\n",
       "</table>\n",
       "<p>9999 rows × 8 columns</p>\n",
       "</div>"
      ],
      "text/plain": [
       "            X1        X2        X3        Y1      X1:1      X2:1      X3:1  \\\n",
       "0     0.602888 -0.317144  0.123986  0.054386 -0.333167  0.120291 -0.313161   \n",
       "1     0.147428 -0.353617 -0.298057  0.985789  0.602888 -0.317144  0.123986   \n",
       "2     0.169421 -0.023562 -0.508075  1.020029  0.147428 -0.353617 -0.298057   \n",
       "3    -0.271752 -0.040821 -0.799066  0.660175  0.169421 -0.023562 -0.508075   \n",
       "4    -0.020856  0.052620 -0.137816  0.668248 -0.271752 -0.040821 -0.799066   \n",
       "...        ...       ...       ...       ...       ...       ...       ...   \n",
       "9994 -0.007770  0.335393 -0.624249  0.750741 -0.058260 -0.017507 -0.249589   \n",
       "9995  0.116234  0.002977 -1.017827  0.495584 -0.007770  0.335393 -0.624249   \n",
       "9996  0.109565  0.181715 -1.131179  1.136734  0.116234  0.002977 -1.017827   \n",
       "9997 -0.180192  0.378420 -0.807047  0.915629  0.109565  0.181715 -1.131179   \n",
       "9998 -0.521485  0.161408 -0.930607  0.318647 -0.180192  0.378420 -0.807047   \n",
       "\n",
       "          Y1:1  \n",
       "0     0.782941  \n",
       "1     0.054386  \n",
       "2     0.985789  \n",
       "3     1.020029  \n",
       "4     0.660175  \n",
       "...        ...  \n",
       "9994  0.781348  \n",
       "9995  0.750741  \n",
       "9996  0.495584  \n",
       "9997  1.136734  \n",
       "9998  0.915629  \n",
       "\n",
       "[9999 rows x 8 columns]"
      ]
     },
     "metadata": {},
     "output_type": "display_data"
    },
    {
     "name": "stdout",
     "output_type": "stream",
     "text": [
      "Data Shape: (9999, 8)\n"
     ]
    }
   ],
   "source": [
    "df = pd.read_csv(root_path + FILENAME)\n",
    "\n",
    "# drop a handful of samples\n",
    "#df = df[:5000]\n",
    "display(df)\n",
    "print(\"Data Shape:\", df.shape)"
   ]
  },
  {
   "cell_type": "code",
   "execution_count": 32,
   "metadata": {},
   "outputs": [
    {
     "name": "stdout",
     "output_type": "stream",
     "text": [
      "Variables Spec: [{'name': 'X1', 'type': 'continuous', 'group_name': 'X1'}, {'name': 'X2', 'type': 'continuous', 'group_name': 'X2'}, {'name': 'X3', 'type': 'continuous', 'group_name': 'X3'}, {'name': 'Y1', 'type': 'continuous', 'group_name': 'Y1'}, {'name': 'X1:1', 'type': 'continuous', 'group_name': 'X1:1'}, {'name': 'X2:1', 'type': 'continuous', 'group_name': 'X2:1'}, {'name': 'X3:1', 'type': 'continuous', 'group_name': 'X3:1'}, {'name': 'Y1:1', 'type': 'continuous', 'group_name': 'Y1:1'}]\n"
     ]
    }
   ],
   "source": [
    "# load metadata telling us the data type of each column\n",
    "# create the variables_spec json file from the dataframe \n",
    "\n",
    "variables_spec= []\n",
    "for col in df.columns:\n",
    "    variables_spec.append({\"name\": col, \"type\": \"continuous\", \"group_name\": col})\n",
    "\n",
    "variables_path = root_path + FILENAME.replace('.csv', '.json')\n",
    "with fsspec.open(variables_path, mode=\"w\", encoding=\"utf-8\") as f:\n",
    "    json.dump({\"variables\": variables_spec}, f, indent=2)\n",
    "        \n",
    "with fsspec.open(variables_path, mode=\"r\", encoding=\"utf-8\") as f:\n",
    "    variables_spec = json.load(f)[\"variables\"]\n",
    "\n",
    "print(\"Variables Spec:\", variables_spec)"
   ]
  },
  {
   "cell_type": "markdown",
   "metadata": {},
   "source": [
    "Initialize a DECI model"
   ]
  },
  {
   "cell_type": "code",
   "execution_count": 33,
   "metadata": {},
   "outputs": [
    {
     "data": {
      "text/plain": [
       "_StringKeys({'X1': tensor([[ 2.1358],\n",
       "        [ 0.5267],\n",
       "        [ 0.6044],\n",
       "        ...,\n",
       "        [ 0.3930],\n",
       "        [-0.6307],\n",
       "        [-1.8364]]), 'X2': tensor([[-1.6524],\n",
       "        [-1.8407],\n",
       "        [-0.1364],\n",
       "        ...,\n",
       "        [ 0.9236],\n",
       "        [ 1.9394],\n",
       "        [ 0.8188]]), 'X3': tensor([[ 2.0899],\n",
       "        [ 0.6200],\n",
       "        [-0.1115],\n",
       "        ...,\n",
       "        [-2.2818],\n",
       "        [-1.1529],\n",
       "        [-1.5832]]), 'Y1': tensor([[-1.7717],\n",
       "        [ 0.8775],\n",
       "        [ 0.9748],\n",
       "        ...,\n",
       "        [ 1.3068],\n",
       "        [ 0.6779],\n",
       "        [-1.0201]]), 'X1:1': tensor([[-1.1713],\n",
       "        [ 2.1359],\n",
       "        [ 0.5267],\n",
       "        ...,\n",
       "        [ 0.4165],\n",
       "        [ 0.3929],\n",
       "        [-0.6308]]), 'X2:1': tensor([[ 6.0647e-01],\n",
       "        [-1.6524e+00],\n",
       "        [-1.8407e+00],\n",
       "        ...,\n",
       "        [ 6.7863e-04],\n",
       "        [ 9.2365e-01],\n",
       "        [ 1.9394e+00]]), 'X3:1': tensor([[ 0.5672],\n",
       "        [ 2.0900],\n",
       "        [ 0.6198],\n",
       "        ...,\n",
       "        [-1.8875],\n",
       "        [-2.2823],\n",
       "        [-1.1532]]), 'Y1:1': tensor([[ 0.3004],\n",
       "        [-1.7720],\n",
       "        [ 0.8774],\n",
       "        ...,\n",
       "        [-0.5170],\n",
       "        [ 1.3067],\n",
       "        [ 0.6778]])})"
      ]
     },
     "metadata": {},
     "output_type": "display_data"
    }
   ],
   "source": [
    "data_module = BasicDECIDataModule(\n",
    "    dataframe=df,\n",
    "    variables=[Variable.from_dict(v) for v in variables_spec],\n",
    "    batch_size=64,\n",
    "    normalize=True \n",
    ")\n",
    "num_nodes = len(data_module.dataset_train.keys())\n",
    "\n",
    "display(data_module.dataset_train.keys()) # sanity check"
   ]
  },
  {
   "cell_type": "code",
   "execution_count": 34,
   "metadata": {},
   "outputs": [
    {
     "name": "stdout",
     "output_type": "stream",
     "text": [
      "Number of nodes: 8\n"
     ]
    }
   ],
   "source": [
    "print(f'Number of nodes: {num_nodes}') # sanity check"
   ]
  },
  {
   "cell_type": "code",
   "execution_count": 35,
   "metadata": {},
   "outputs": [
    {
     "name": "stdout",
     "output_type": "stream",
     "text": [
      "Node names: ['X1', 'X2', 'X3', 'Y1', 'X1:1', 'X2:1', 'X3:1', 'Y1:1']\n",
      "Max Lag: 1\n",
      "Lagged nodes: ['X1:1', 'X2:1', 'X3:1', 'Y1:1']\n",
      "Non-lagged nodes: ['X1', 'X2', 'X3', 'Y1']\n"
     ]
    }
   ],
   "source": [
    "outcome = \"Y1\"\n",
    "\n",
    "node_name_to_idx = {key: i for i, key in enumerate(data_module.dataset_train.keys())}\n",
    "node_names = list(data_module.dataset_train.keys())\n",
    "\n",
    "print(f'Node names: {node_names}')\n",
    "num_nodes = len(node_names)\n",
    "\n",
    "# extract the maximum lag available\n",
    "max_lag = max([int(node.split(\":\")[1]) for node in node_names if \":\" in node])\n",
    "print(f'Max Lag: {max_lag}')\n",
    "\n",
    "constraint_matrix = np.full((num_nodes, num_nodes), np.nan, dtype=np.float32)  # init constraint matrix with NaNs\n",
    "\n",
    "lagged_nodes = [node for node in node_names if \":\" in node]  # find all lagged nodes\n",
    "print(f'Lagged nodes: {lagged_nodes}')\n",
    "\n",
    "non_lagged_nodes = [node for node in node_names if node not in lagged_nodes]  # find all non-lagged nodes\n",
    "print(f'Non-lagged nodes: {non_lagged_nodes}')"
   ]
  },
  {
   "cell_type": "markdown",
   "metadata": {},
   "source": [
    "Proceed with adding time-series related constraints as prior knowledge (represented as a constraint matrix)."
   ]
  },
  {
   "cell_type": "code",
   "execution_count": 36,
   "metadata": {},
   "outputs": [
    {
     "name": "stdout",
     "output_type": "stream",
     "text": [
      "Constraint Matrix:\n"
     ]
    },
    {
     "data": {
      "text/html": [
       "<div>\n",
       "<style scoped>\n",
       "    .dataframe tbody tr th:only-of-type {\n",
       "        vertical-align: middle;\n",
       "    }\n",
       "\n",
       "    .dataframe tbody tr th {\n",
       "        vertical-align: top;\n",
       "    }\n",
       "\n",
       "    .dataframe thead th {\n",
       "        text-align: right;\n",
       "    }\n",
       "</style>\n",
       "<table border=\"1\" class=\"dataframe\">\n",
       "  <thead>\n",
       "    <tr style=\"text-align: right;\">\n",
       "      <th></th>\n",
       "      <th>X1</th>\n",
       "      <th>X2</th>\n",
       "      <th>X3</th>\n",
       "      <th>Y1</th>\n",
       "      <th>X1:1</th>\n",
       "      <th>X2:1</th>\n",
       "      <th>X3:1</th>\n",
       "      <th>Y1:1</th>\n",
       "    </tr>\n",
       "  </thead>\n",
       "  <tbody>\n",
       "    <tr>\n",
       "      <th>X1</th>\n",
       "      <td>0.0</td>\n",
       "      <td>0.0</td>\n",
       "      <td>0.0</td>\n",
       "      <td>0.0</td>\n",
       "      <td>0.0</td>\n",
       "      <td>0.0</td>\n",
       "      <td>0.0</td>\n",
       "      <td>0.0</td>\n",
       "    </tr>\n",
       "    <tr>\n",
       "      <th>X2</th>\n",
       "      <td>0.0</td>\n",
       "      <td>0.0</td>\n",
       "      <td>0.0</td>\n",
       "      <td>0.0</td>\n",
       "      <td>0.0</td>\n",
       "      <td>0.0</td>\n",
       "      <td>0.0</td>\n",
       "      <td>0.0</td>\n",
       "    </tr>\n",
       "    <tr>\n",
       "      <th>X3</th>\n",
       "      <td>0.0</td>\n",
       "      <td>0.0</td>\n",
       "      <td>0.0</td>\n",
       "      <td>0.0</td>\n",
       "      <td>0.0</td>\n",
       "      <td>0.0</td>\n",
       "      <td>0.0</td>\n",
       "      <td>0.0</td>\n",
       "    </tr>\n",
       "    <tr>\n",
       "      <th>Y1</th>\n",
       "      <td>0.0</td>\n",
       "      <td>0.0</td>\n",
       "      <td>0.0</td>\n",
       "      <td>0.0</td>\n",
       "      <td>0.0</td>\n",
       "      <td>0.0</td>\n",
       "      <td>0.0</td>\n",
       "      <td>0.0</td>\n",
       "    </tr>\n",
       "    <tr>\n",
       "      <th>X1:1</th>\n",
       "      <td>0.0</td>\n",
       "      <td>NaN</td>\n",
       "      <td>NaN</td>\n",
       "      <td>NaN</td>\n",
       "      <td>0.0</td>\n",
       "      <td>0.0</td>\n",
       "      <td>0.0</td>\n",
       "      <td>0.0</td>\n",
       "    </tr>\n",
       "    <tr>\n",
       "      <th>X2:1</th>\n",
       "      <td>NaN</td>\n",
       "      <td>0.0</td>\n",
       "      <td>NaN</td>\n",
       "      <td>NaN</td>\n",
       "      <td>0.0</td>\n",
       "      <td>0.0</td>\n",
       "      <td>0.0</td>\n",
       "      <td>0.0</td>\n",
       "    </tr>\n",
       "    <tr>\n",
       "      <th>X3:1</th>\n",
       "      <td>NaN</td>\n",
       "      <td>NaN</td>\n",
       "      <td>0.0</td>\n",
       "      <td>NaN</td>\n",
       "      <td>0.0</td>\n",
       "      <td>0.0</td>\n",
       "      <td>0.0</td>\n",
       "      <td>0.0</td>\n",
       "    </tr>\n",
       "    <tr>\n",
       "      <th>Y1:1</th>\n",
       "      <td>0.0</td>\n",
       "      <td>0.0</td>\n",
       "      <td>0.0</td>\n",
       "      <td>0.0</td>\n",
       "      <td>0.0</td>\n",
       "      <td>0.0</td>\n",
       "      <td>0.0</td>\n",
       "      <td>0.0</td>\n",
       "    </tr>\n",
       "  </tbody>\n",
       "</table>\n",
       "</div>"
      ],
      "text/plain": [
       "       X1   X2   X3   Y1  X1:1  X2:1  X3:1  Y1:1\n",
       "X1    0.0  0.0  0.0  0.0   0.0   0.0   0.0   0.0\n",
       "X2    0.0  0.0  0.0  0.0   0.0   0.0   0.0   0.0\n",
       "X3    0.0  0.0  0.0  0.0   0.0   0.0   0.0   0.0\n",
       "Y1    0.0  0.0  0.0  0.0   0.0   0.0   0.0   0.0\n",
       "X1:1  0.0  NaN  NaN  NaN   0.0   0.0   0.0   0.0\n",
       "X2:1  NaN  0.0  NaN  NaN   0.0   0.0   0.0   0.0\n",
       "X3:1  NaN  NaN  0.0  NaN   0.0   0.0   0.0   0.0\n",
       "Y1:1  0.0  0.0  0.0  0.0   0.0   0.0   0.0   0.0"
      ]
     },
     "metadata": {},
     "output_type": "display_data"
    }
   ],
   "source": [
    "#no self loops\n",
    "constraint_matrix[np.diag_indices(num_nodes)] = 0\n",
    "\n",
    "for node in node_names:\n",
    "    for node_2 in node_names:\n",
    "        suffix = node.split(\":\")[1] if \":\" in node else None\n",
    "        suffix_2 = node_2.split(\":\")[1] if \":\" in node_2 else None\n",
    "        if suffix is not None and suffix_2 is not None and suffix == suffix_2:\n",
    "            constraint_matrix[node_name_to_idx[node], node_name_to_idx[node_2]] = 0\n",
    "            constraint_matrix[node_name_to_idx[node_2], node_name_to_idx[node]] = 0\n",
    "for node in node_names:\n",
    "    prefix = node.split(\":\")[0]\n",
    "    if \":\" not in node:\n",
    "        constraint_matrix[node_name_to_idx[node], :] = 0 # final timestep has no children\n",
    "    #print(\"Node:\", node, \"Prefix:\", prefix)\n",
    "    for node_2 in node_names:\n",
    "        prefix_2 = node_2.split(\":\")[0]\n",
    "        if prefix == prefix_2:\n",
    "            constraint_matrix[node_name_to_idx[node], node_name_to_idx[node_2]] = 0\n",
    "            constraint_matrix[node_name_to_idx[node_2], node_name_to_idx[node]] = 0\n",
    "        if \":\" in node_2 and prefix == node_2.split(\":\")[1]:\n",
    "            constraint_matrix[node_name_to_idx[node], node_name_to_idx[node_2]] = 0\n",
    "            constraint_matrix[node_name_to_idx[node_2], node_name_to_idx[node]] = 0\n",
    "        #no edges back to previous time steps\n",
    "        if \":\" in node and \":\" in node_2 and int(node.split(\":\")[1]) < int(node_2.split(\":\")[1]):\n",
    "            constraint_matrix[node_name_to_idx[node], node_name_to_idx[node_2]] = 0\n",
    "        if \":\" not in node and \":\" in node_2:\n",
    "            constraint_matrix[node_name_to_idx[node], node_name_to_idx[node_2]] = 0            \n",
    "        \n",
    "# target node (outcome) has no children\n",
    "constraint_matrix[node_name_to_idx[outcome], :] = 0\n",
    "for i in range(1, max_lag + 1):\n",
    "    constraint_matrix[node_name_to_idx[str(outcome) + \":\" + str(i)], :] = 0\n",
    "\n",
    "constraint_df = pd.DataFrame(constraint_matrix, index=node_names, columns=node_names)\n",
    "\n",
    "print(\"Constraint Matrix:\")\n",
    "display(constraint_df)"
   ]
  },
  {
   "cell_type": "markdown",
   "metadata": {},
   "source": [
    "The number of edges to be learned during training is greatly reduced (the ones set to zero) due to the introduced constraints. \n",
    "\n",
    "E.g the DECI model now has to learn the existence and SEM parametrization of $X1:1 \\rightarrow X_2$, $X3:1 \\rightarrow Y_1$ etc."
   ]
  },
  {
   "cell_type": "code",
   "execution_count": 37,
   "metadata": {},
   "outputs": [
    {
     "name": "stderr",
     "output_type": "stream",
     "text": [
      "Seed set to 42\n",
      "GPU available: True (cuda), used: True\n",
      "TPU available: False, using: 0 TPU cores\n",
      "IPU available: False, using: 0 IPUs\n",
      "HPU available: False, using: 0 HPUs\n"
     ]
    }
   ],
   "source": [
    "pl.seed_everything(seed=42)  # set the random seed\n",
    "\n",
    "lightning_module = DECIModule(\n",
    "    noise_dist=ContinuousNoiseDist.SPLINE, # or ContinuousNoiseDist.GAUSSIAN for Gaussian noise\n",
    "    embedding_size=64, # default\n",
    "    out_dim_g=3, # default\n",
    "    num_layers_g=3, # 2 is default\n",
    "    num_layers_zeta=3, # 2 is default\n",
    "    gumbel_temp=10, # default\n",
    "    prior_sparsity_lambda=1.0,\n",
    "    init_rho=1.0,\n",
    "    init_alpha=0.020,\n",
    "    auglag_config=AugLagLRConfig(\n",
    "        max_inner_steps=1500,\n",
    "        max_outer_steps=8,\n",
    "        lr_init_dict={\n",
    "            \"icgnn\": 0.00076,\n",
    "            \"vardist\": 0.0098,\n",
    "            \"functional_relationships\": 3e-3,\n",
    "            \"noise_dist\": 0.0070,\n",
    "        },\n",
    "    ),\n",
    ")\n",
    "\n",
    "lightning_module.constraint_matrix = torch.tensor(constraint_matrix)\n",
    "\n",
    "trainer = pl.Trainer(\n",
    "    accelerator=\"auto\",\n",
    "    max_epochs=3000,\n",
    "    fast_dev_run=test_run,\n",
    "    callbacks=[TQDMProgressBar(refresh_rate=19)],\n",
    "    enable_checkpointing=False\n",
    ")"
   ]
  },
  {
   "cell_type": "markdown",
   "metadata": {},
   "source": [
    "Thankfully for us, the trainer of Pytorch lightning runs on all available GPUs (one in our case) by default."
   ]
  },
  {
   "cell_type": "code",
   "execution_count": 38,
   "metadata": {},
   "outputs": [
    {
     "data": {
      "text/plain": [
       "causica.lightning.modules.deci_module.DECIModule"
      ]
     },
     "metadata": {},
     "output_type": "display_data"
    },
    {
     "data": {
      "text/plain": [
       "DECIModule(\n",
       "  (auglag_loss): AugLagLossCalculator()\n",
       ")"
      ]
     },
     "metadata": {},
     "output_type": "display_data"
    }
   ],
   "source": [
    "display(type(lightning_module))\n",
    "display(lightning_module)"
   ]
  },
  {
   "cell_type": "markdown",
   "metadata": {},
   "source": [
    "We may also use tensorboard to track values over epochs such as the training loss:"
   ]
  },
  {
   "cell_type": "code",
   "execution_count": 39,
   "metadata": {},
   "outputs": [
    {
     "name": "stdout",
     "output_type": "stream",
     "text": [
      "The tensorboard extension is already loaded. To reload it, use:\n",
      "  %reload_ext tensorboard\n"
     ]
    }
   ],
   "source": [
    "%load_ext tensorboard"
   ]
  },
  {
   "cell_type": "code",
   "execution_count": 40,
   "metadata": {},
   "outputs": [
    {
     "name": "stderr",
     "output_type": "stream",
     "text": [
      "LOCAL_RANK: 0 - CUDA_VISIBLE_DEVICES: [0]\n",
      "\n",
      "  | Name        | Type                  | Params\n",
      "------------------------------------------------------\n",
      "0 | auglag_loss | AugLagLossCalculator  | 0     \n",
      "1 | sem_module  | SEMDistributionModule | 28.1 K\n",
      "------------------------------------------------------\n",
      "28.0 K    Trainable params\n",
      "64        Non-trainable params\n",
      "28.1 K    Total params\n",
      "0.112     Total estimated model params size (MB)\n"
     ]
    },
    {
     "data": {
      "application/vnd.jupyter.widget-view+json": {
       "model_id": "74b83b51a74e41e39ee9b42857cbddc2",
       "version_major": 2,
       "version_minor": 0
      },
      "text/plain": [
       "Training: |          | 0/? [00:00<?, ?it/s]"
      ]
     },
     "metadata": {},
     "output_type": "display_data"
    },
    {
     "name": "stdout",
     "output_type": "stream",
     "text": [
      "Updating alpha to: 0.09999999403953552\n",
      "Updating alpha to: 0.4999999701976776\n",
      "Updating alpha to: 2.499999761581421\n",
      "Updating alpha to: 12.499999046325684\n",
      "Updating alpha to: 62.499996185302734\n"
     ]
    }
   ],
   "source": [
    "trainer.fit(lightning_module, data_module)"
   ]
  },
  {
   "cell_type": "markdown",
   "metadata": {},
   "source": [
    "We pickle the learned SEM model:"
   ]
  },
  {
   "cell_type": "code",
   "execution_count": 47,
   "metadata": {},
   "outputs": [],
   "source": [
    "torch.save(lightning_module.sem_module, \"deci_learned_SEM.pt\")"
   ]
  },
  {
   "cell_type": "markdown",
   "metadata": {},
   "source": [
    "#### Plot the inferred causal DAG "
   ]
  },
  {
   "cell_type": "code",
   "execution_count": 48,
   "metadata": {},
   "outputs": [],
   "source": [
    "sem_module: SEMDistributionModule = torch.load(\"deci_learned_SEM.pt\")\n",
    "\n",
    "# create a structural equation model using the most likely graph\n",
    "sem = sem_module().mode"
   ]
  },
  {
   "cell_type": "code",
   "execution_count": 49,
   "metadata": {},
   "outputs": [
    {
     "name": "stdout",
     "output_type": "stream",
     "text": [
      "['X1', 'X2', 'X3', 'Y1', 'X1:1', 'X2:1', 'X3:1', 'Y1:1']\n"
     ]
    },
    {
     "data": {
      "text/plain": [
       "{'X1': 'X1',\n",
       " 'X2': 'X2',\n",
       " 'X3': 'X3',\n",
       " 'Y1': 'Y1',\n",
       " 'X1:1': 'X1:1',\n",
       " 'X2:1': 'X2:1',\n",
       " 'X3:1': 'X3:1',\n",
       " 'Y1:1': 'Y1:1'}"
      ]
     },
     "metadata": {},
     "output_type": "display_data"
    },
    {
     "data": {
      "text/plain": [
       "'Number of edges: 4'"
      ]
     },
     "metadata": {},
     "output_type": "display_data"
    },
    {
     "data": {
      "text/plain": [
       "networkx.classes.digraph.DiGraph"
      ]
     },
     "metadata": {},
     "output_type": "display_data"
    },
    {
     "data": {
      "image/png": "[encoded data removed]",
      "text/plain": [
       "<Figure size 2000x2000 with 1 Axes>"
      ]
     },
     "metadata": {},
     "output_type": "display_data"
    }
   ],
   "source": [
    "# Create the graph from sem.graph\n",
    "graph_array = sem.graph.cpu().numpy()\n",
    "\n",
    "graph = nx.from_numpy_array(graph_array, create_using=nx.DiGraph)\n",
    "#graph = nx.relabel_nodes(graph, dict(enumerate(data_module.dataset_train.keys())))\n",
    "graph = nx.relabel_nodes(graph, {i: key for i, key in enumerate(data_module.dataset_train.keys())})\n",
    "\n",
    "# sanity check\n",
    "#print(dict(data_module.dataset_train.keys()))\n",
    "#print(list(data_module.dataset_train.keys()))\n",
    "\n",
    "print(graph.nodes)\n",
    "\n",
    "# Prepare the plot\n",
    "fig, axis = plt.subplots(1, 1, figsize=(20, 20))\n",
    "\n",
    "# Set labels for nodes\n",
    "#labels = {node: i for i, node in enumerate(graph.nodes)}\n",
    "labels = {node: node for node in graph.nodes}\n",
    "display(labels)\n",
    "\n",
    "display(f'Number of edges: {len(graph.edges)}')\n",
    "\n",
    "# Try to use graphviz layout, fallback to spring layout if not available\n",
    "try:\n",
    "    layout = nx.nx_agraph.graphviz_layout(graph, prog=\"dot\")\n",
    "except (ModuleNotFoundError, ImportError):\n",
    "    layout = nx.layout.spring_layout(graph)\n",
    "\n",
    "# Scatter plot nodes\n",
    "for node, i in labels.items():\n",
    "    axis.scatter(layout[node][0], layout[node][1], label=f\"{i}: {node}\")\n",
    "axis.legend()\n",
    "\n",
    "# Draw the networkx graph\n",
    "nx.draw_networkx(graph, pos=layout, with_labels=True, arrows=True, labels=labels, ax=axis, node_size=700)\n",
    "\n",
    "display(type(graph))\n",
    "plt.show()"
   ]
  },
  {
   "cell_type": "markdown",
   "metadata": {},
   "source": [
    "#### Compare inferred graph with pickled ground truth"
   ]
  },
  {
   "cell_type": "code",
   "execution_count": 50,
   "metadata": {},
   "outputs": [
    {
     "data": {
      "text/plain": [
       "OutEdgeView([('X1_t-1', 'Y1_t'), ('X2_t-1', 'X3_t')])"
      ]
     },
     "metadata": {},
     "output_type": "display_data"
    },
    {
     "data": {
      "text/plain": [
       "NodeView(('Y1', 'Y1:1', 'X1', 'X1:1', 'X2', 'X2:1', 'X3', 'X3:1'))"
      ]
     },
     "metadata": {},
     "output_type": "display_data"
    }
   ],
   "source": [
    "\n",
    "# Load the graph from the pickle file\n",
    "GRAPH_FILENAME = root_path + FILENAME.split('-')[0] + '-causal_graph.pkl'\n",
    "with open(GRAPH_FILENAME, 'rb') as f:\n",
    "    gt_graph = pickle.load(f) \n",
    "\n",
    "type(gt_graph)\n",
    "\n",
    "#graph = nx.relabel_nodes(graph, dict(enumerate(data_module.dataset_train.keys())))\n",
    "\n",
    "# sanity checks\n",
    "#display(gt_graph.nodes)\n",
    "#display(gt_graph.edges)\n",
    "\n",
    "#remove nodes starting with S\n",
    "for node in list(gt_graph.nodes):\n",
    "    if  node.startswith('S'):\n",
    "        gt_graph.remove_node(node)\n",
    "#display(gt_graph.nodes)\n",
    "\n",
    "#same for edges\n",
    "for edge in list(gt_graph.edges):\n",
    "    if edge[0].startswith('S') or edge[1].startswith('S'):\n",
    "        gt_graph.remove_edge(edge[0], edge[1])\n",
    "display(gt_graph.edges)\n",
    "\n",
    "#rename nodes from X_t-1 to X:1 etc\n",
    "for node in list(gt_graph.nodes):\n",
    "    dict = { node: node.replace('_t', '').replace('_', '_').replace(':1', ':1').replace('-', ':')}\n",
    "    gt_graph = nx.relabel_nodes(gt_graph, dict)\n",
    "\n",
    "display(gt_graph.nodes)\n"
   ]
  },
  {
   "cell_type": "markdown",
   "metadata": {},
   "source": [
    "#### Plot the ground-truth graph "
   ]
  },
  {
   "cell_type": "code",
   "execution_count": 51,
   "metadata": {},
   "outputs": [
    {
     "name": "stdout",
     "output_type": "stream",
     "text": [
      "Number of edges: 2\n"
     ]
    },
    {
     "data": {
      "text/plain": [
       "networkx.classes.digraph.DiGraph"
      ]
     },
     "metadata": {},
     "output_type": "display_data"
    },
    {
     "data": {
      "image/png": "[encoded data removed]",
      "text/plain": [
       "<Figure size 1200x1200 with 1 Axes>"
      ]
     },
     "metadata": {},
     "output_type": "display_data"
    }
   ],
   "source": [
    "fig, axis = plt.subplots(1, 1, figsize=(12, 12))\n",
    "\n",
    "labels = {node: node for node in gt_graph.nodes}\n",
    "#display(labels)\n",
    "\n",
    "#rename nodes from X_t-1 to X:1 etc\n",
    "for node in list(gt_graph.nodes):\n",
    "    dict = { node: node.replace('_t', '').replace('_', '_').replace(':1', ':1').replace('-', ':')}\n",
    "    gt_graph = nx.relabel_nodes(gt_graph, dict)\n",
    "\n",
    "# sanity checks\n",
    "#display(gt_graph.nodes)\n",
    "#display(gt_graph.edges)\n",
    "\n",
    "#display(graph.nodes)\n",
    "#display(graph.edges)\n",
    "\n",
    "print(\"Number of edges:\", len(gt_graph.edges))\n",
    "\n",
    "try:\n",
    "    layout = nx.nx_agraph.graphviz_layout(graph, prog=\"dot\")\n",
    "except (ModuleNotFoundError, ImportError):\n",
    "    layout = nx.layout.spring_layout(gt_graph)\n",
    "\n",
    "for node, i in labels.items():\n",
    "    axis.scatter(layout[node][0], layout[node][1], label=f\"{i}: {node}\")\n",
    "axis.legend()\n",
    "\n",
    "nx.draw_networkx(gt_graph, pos=layout, with_labels=True, arrows=True, labels=labels, ax=axis, node_size=700)\n",
    "\n",
    "display(type(gt_graph))\n",
    "plt.show()"
   ]
  },
  {
   "cell_type": "markdown",
   "metadata": {},
   "source": [
    "#### Compute performance metrics"
   ]
  },
  {
   "cell_type": "code",
   "execution_count": 52,
   "metadata": {},
   "outputs": [
    {
     "data": {
      "text/plain": [
       "'SHD: 2'"
      ]
     },
     "metadata": {},
     "output_type": "display_data"
    },
    {
     "data": {
      "text/plain": [
       "'Precision-Recall AUC: 0.75, Curve: [(0.5, 1.0), (1.0, 0.0)]'"
      ]
     },
     "metadata": {},
     "output_type": "display_data"
    },
    {
     "data": {
      "text/plain": [
       "'SID: 3.0'"
      ]
     },
     "metadata": {},
     "output_type": "display_data"
    }
   ],
   "source": [
    "import cdt #causal discovery toolbox\n",
    "\n",
    "display(f'SHD: {cdt.metrics.SHD(gt_graph, graph, double_for_anticausal=True)}')\n",
    "\n",
    "aupr, curve = cdt.metrics.precision_recall(gt_graph, graph, low_confidence_undirected=True)\n",
    "\n",
    "display(f'Precision-Recall AUC: {aupr}, Curve: {curve}')\n",
    "\n",
    "sid = cdt.metrics.SID(graph, gt_graph) #depends on the R-package SID\n",
    "display(f'SID: {sid}')"
   ]
  }
 ],
 "metadata": {
  "kernelspec": {
   "display_name": "causica",
   "language": "python",
   "name": "python3"
  },
  "language_info": {
   "codemirror_mode": {
    "name": "ipython",
    "version": 3
   },
   "file_extension": ".py",
   "mimetype": "text/x-python",
   "name": "python",
   "nbconvert_exporter": "python",
   "pygments_lexer": "ipython3",
   "version": "3.10.1"
  }
 },
 "nbformat": 4,
 "nbformat_minor": 2
}
